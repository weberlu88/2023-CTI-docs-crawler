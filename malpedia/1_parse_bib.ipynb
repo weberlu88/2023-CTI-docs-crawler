{
 "cells": [
  {
   "attachments": {},
   "cell_type": "markdown",
   "metadata": {},
   "source": [
    "### Hi\n",
    "see https://github.com/sciunto-org/python-bibtexparser"
   ]
  },
  {
   "cell_type": "code",
   "execution_count": 20,
   "metadata": {},
   "outputs": [],
   "source": [
    "# ! pip install --no-cache-dir --force-reinstall git+https://github.com/sciunto-org/python-bibtexparser@main\n",
    "import pandas as pd\n",
    "import bibtexparser\n",
    "\n",
    "with open(\"./malpedia.bib\", 'r', encoding='utf-8') as f:\n",
    "    bibtex_str = f.read()\n",
    "library = bibtexparser.parse_string(bibtex_str)"
   ]
  },
  {
   "cell_type": "code",
   "execution_count": 3,
   "metadata": {},
   "outputs": [
    {
     "name": "stdout",
     "output_type": "stream",
     "text": [
      "Parsed 13901 blocks, including:\n",
      "\t13901 entries\n",
      "\t0 comments\n",
      "\t0 strings and\n",
      "\t0 preambles\n"
     ]
    }
   ],
   "source": [
    "print(f\"Parsed {len(library.blocks)} blocks, including:\"\n",
    "  f\"\\n\\t{len(library.entries)} entries\"\n",
    "    f\"\\n\\t{len(library.comments)} comments\"\n",
    "    f\"\\n\\t{len(library.strings)} strings and\"\n",
    "    f\"\\n\\t{len(library.preambles)} preambles\")"
   ]
  },
  {
   "cell_type": "code",
   "execution_count": 3,
   "metadata": {},
   "outputs": [],
   "source": [
    "first_entry = library.entries[0]\n",
    "# first_entry.key # The entry key\n",
    "# first_entry.entry_type # The entry type, e.g. \"article\"\n",
    "# first_entry.fields # The entry fields (e.g. author, title, etc. with their values)\n",
    "# first_entry.fields_dict # The entry fields, as a dictionary by field key"
   ]
  },
  {
   "cell_type": "code",
   "execution_count": 4,
   "metadata": {},
   "outputs": [
    {
     "data": {
      "text/plain": [
       "[Field(key=`author`, value=`@037`, start_line=1),\n",
       " Field(key=`title`, value=`{APT38 DYEPACK FRAMEWORK}`, start_line=2),\n",
       " Field(key=`date`, value=`2019-03-20`, start_line=3),\n",
       " Field(key=`organization`, value=`Github (649)`, start_line=4),\n",
       " Field(key=`url`, value=`https://github.com/649/APT38-DYEPACK`, start_line=5),\n",
       " Field(key=`language`, value=`English`, start_line=6),\n",
       " Field(key=`urldate`, value=`2019-12-17`, start_line=7)]"
      ]
     },
     "execution_count": 4,
     "metadata": {},
     "output_type": "execute_result"
    }
   ],
   "source": [
    "first_entry.fields"
   ]
  },
  {
   "cell_type": "code",
   "execution_count": 5,
   "metadata": {},
   "outputs": [
    {
     "data": {
      "text/plain": [
       "{'author': Field(key=`author`, value=`@037`, start_line=1),\n",
       " 'title': Field(key=`title`, value=`{APT38 DYEPACK FRAMEWORK}`, start_line=2),\n",
       " 'date': Field(key=`date`, value=`2019-03-20`, start_line=3),\n",
       " 'organization': Field(key=`organization`, value=`Github (649)`, start_line=4),\n",
       " 'url': Field(key=`url`, value=`https://github.com/649/APT38-DYEPACK`, start_line=5),\n",
       " 'language': Field(key=`language`, value=`English`, start_line=6),\n",
       " 'urldate': Field(key=`urldate`, value=`2019-12-17`, start_line=7)}"
      ]
     },
     "execution_count": 5,
     "metadata": {},
     "output_type": "execute_result"
    }
   ],
   "source": [
    "first_entry.fields_dict"
   ]
  },
  {
   "cell_type": "code",
   "execution_count": 7,
   "metadata": {},
   "outputs": [
    {
     "data": {
      "text/plain": [
       "'https://github.com/649/APT38-DYEPACK'"
      ]
     },
     "execution_count": 7,
     "metadata": {},
     "output_type": "execute_result"
    }
   ],
   "source": [
    "first_entry.fields_dict['url'].value"
   ]
  },
  {
   "cell_type": "code",
   "execution_count": 7,
   "metadata": {},
   "outputs": [
    {
     "name": "stdout",
     "output_type": "stream",
     "text": [
      "13894\n",
      "url_none_count: 0\n"
     ]
    }
   ],
   "source": [
    "url_list = set()\n",
    "url_none_count = 0\n",
    "for entry in library.entries:\n",
    "    url = entry.fields_dict['url'].value\n",
    "    if not url or url == '':\n",
    "        url_none_count += 1\n",
    "    url_list.add(url)\n",
    "\n",
    "print(len(url_list))\n",
    "print(f\"url_none_count: {url_none_count}\")"
   ]
  },
  {
   "cell_type": "code",
   "execution_count": 10,
   "metadata": {},
   "outputs": [],
   "source": [
    "seen = set()\n",
    "dupes = []\n",
    "\n",
    "for entry in library.entries:\n",
    "    url = entry.fields_dict['url'].value\n",
    "    if url in seen:\n",
    "        dupes.append(url)\n",
    "    else:\n",
    "        seen.add(url)"
   ]
  },
  {
   "cell_type": "code",
   "execution_count": 11,
   "metadata": {},
   "outputs": [
    {
     "data": {
      "text/plain": [
       "['https://i.blackhat.com/asia-21/Thursday-Handouts/as-21-Ding-Domain-Borrowing-Catch-My-C2-Traffic-If-You-Can.pdf',\n",
       " 'https://www.intezer.com/blog/malware-analysis/habitsrat-used-to-target-linux-and-windows-servers/',\n",
       " 'https://www.boho.or.kr/filedownload.do?attach_file_seq=2652&attach_file_id=EpF2652.pdf',\n",
       " 'https://malgamy.github.io/malware-analysis/Deep-Analysis-Agent-Tesla/',\n",
       " 'https://www.bitdefender.com/files/News/CaseStudies/study/415/Bitdefender-PR-Whitepaper-RedLine-creat6109-en-EN.pdf',\n",
       " 'https://www.youtube.com/watch?v=T5wPwvLrBYU',\n",
       " 'https://research.checkpoint.com/2021/pixstealer-a-new-wave-of-android-banking-trojans-abusing-accessibility-services/']"
      ]
     },
     "execution_count": 11,
     "metadata": {},
     "output_type": "execute_result"
    }
   ],
   "source": [
    "dupes"
   ]
  },
  {
   "cell_type": "code",
   "execution_count": 17,
   "metadata": {},
   "outputs": [
    {
     "name": "stdout",
     "output_type": "stream",
     "text": [
      "online\n",
      "online\n"
     ]
    },
    {
     "data": {
      "text/plain": [
       "[{'author': Field(key=`author`, value=`Kaspersky`, start_line=60780),\n",
       "  'title': Field(key=`title`, value=`{Video: Operation ShadowHammer: Costin Raiu and Vitaly Kamlyuk at #TheSAS2019}`, start_line=60781),\n",
       "  'date': Field(key=`date`, value=`2019-05-20`, start_line=60782),\n",
       "  'organization': Field(key=`organization`, value=`YouTube`, start_line=60783),\n",
       "  'url': Field(key=`url`, value=`https://www.youtube.com/watch?v=T5wPwvLrBYU`, start_line=60784),\n",
       "  'language': Field(key=`language`, value=`English`, start_line=60785),\n",
       "  'urldate': Field(key=`urldate`, value=`2020-01-08`, start_line=60786)},\n",
       " {'author': Field(key=`author`, value=`Costin Raiu and Vitaly Kamluk`, start_line=94298),\n",
       "  'title': Field(key=`title`, value=`{Operation ShadowHammer: Costin Raiu and Vitaly Kamlyuk at #TheSAS2019}`, start_line=94299),\n",
       "  'date': Field(key=`date`, value=`2019-05-20`, start_line=94300),\n",
       "  'organization': Field(key=`organization`, value=`Youtube (Kaspersky)`, start_line=94301),\n",
       "  'url': Field(key=`url`, value=`https://www.youtube.com/watch?v=T5wPwvLrBYU`, start_line=94302),\n",
       "  'language': Field(key=`language`, value=`English`, start_line=94303),\n",
       "  'urldate': Field(key=`urldate`, value=`2021-07-20`, start_line=94304)}]"
      ]
     },
     "execution_count": 17,
     "metadata": {},
     "output_type": "execute_result"
    }
   ],
   "source": [
    "as21 = []\n",
    "for entry in library.entries:\n",
    "    url = entry.fields_dict['url'].value\n",
    "    if url == 'https://www.youtube.com/watch?v=T5wPwvLrBYU':\n",
    "        print(entry.entry_type)\n",
    "        as21.append(entry.fields_dict)\n",
    "\n",
    "as21"
   ]
  },
  {
   "cell_type": "code",
   "execution_count": 25,
   "metadata": {},
   "outputs": [],
   "source": [
    "class Report:\n",
    "    def __init__(self) -> None:\n",
    "        self.platform = None  # 來自哪個平台，應是 Malpedia\n",
    "        self.media_type = None\n",
    "        self.url = None\n",
    "        self.date = None\n",
    "        self.organization = None\n",
    "        self.title = None\n",
    "        self.author = None\n",
    "\n",
    "    def set_all_attr(self, media_type, url, date, organization, title, author) -> None:\n",
    "        self.media_type = media_type\n",
    "        self.url = url\n",
    "        self.date = date\n",
    "        self.organization = organization\n",
    "        self.title = title\n",
    "        self.author = author\n",
    "\n",
    "    def json(self) -> dict:\n",
    "        return {\n",
    "            'media_type': self.media_type,\n",
    "            'url': self.url,\n",
    "            'date': self.date,\n",
    "            'organization': self.organization,\n",
    "            'title': self.title,\n",
    "            'author': self.author,\n",
    "        }\n",
    "    \n",
    "seen = set()\n",
    "report_list:list[Report] = []\n",
    "for entry in library.entries:\n",
    "    url = entry.fields_dict['url'].value\n",
    "    if url in seen:\n",
    "        continue\n",
    "    else:\n",
    "        seen.add(url)\n",
    "    media_type = entry.entry_type\n",
    "    date   = entry.fields_dict['date'].value\n",
    "    try:\n",
    "        organization = entry.fields_dict['organization'].value\n",
    "    except:\n",
    "        organization = None\n",
    "    title:str  = entry.fields_dict['title'].value\n",
    "    author = entry.fields_dict['author'].value\n",
    "    title = title.replace('{','')\n",
    "    title = title.replace('}','')\n",
    "    \n",
    "    report = Report()\n",
    "    report.set_all_attr(media_type, url, date, organization, title, author)\n",
    "    report_list.append(report)\n",
    "\n",
    "report_json_list = [r.json() for r in report_list]"
   ]
  },
  {
   "cell_type": "code",
   "execution_count": 26,
   "metadata": {},
   "outputs": [
    {
     "data": {
      "text/html": [
       "<div>\n",
       "<style scoped>\n",
       "    .dataframe tbody tr th:only-of-type {\n",
       "        vertical-align: middle;\n",
       "    }\n",
       "\n",
       "    .dataframe tbody tr th {\n",
       "        vertical-align: top;\n",
       "    }\n",
       "\n",
       "    .dataframe thead th {\n",
       "        text-align: right;\n",
       "    }\n",
       "</style>\n",
       "<table border=\"1\" class=\"dataframe\">\n",
       "  <thead>\n",
       "    <tr style=\"text-align: right;\">\n",
       "      <th></th>\n",
       "      <th>media_type</th>\n",
       "      <th>url</th>\n",
       "      <th>date</th>\n",
       "      <th>organization</th>\n",
       "      <th>title</th>\n",
       "      <th>author</th>\n",
       "    </tr>\n",
       "  </thead>\n",
       "  <tbody>\n",
       "    <tr>\n",
       "      <th>0</th>\n",
       "      <td>online</td>\n",
       "      <td>https://github.com/649/APT38-DYEPACK</td>\n",
       "      <td>2019-03-20</td>\n",
       "      <td>Github (649)</td>\n",
       "      <td>APT38 DYEPACK FRAMEWORK</td>\n",
       "      <td>@037</td>\n",
       "    </tr>\n",
       "    <tr>\n",
       "      <th>1</th>\n",
       "      <td>online</td>\n",
       "      <td>https://blueteamblog.com/microsoft-exchange-ze...</td>\n",
       "      <td>2021-03-06</td>\n",
       "      <td>Blue Team Blog</td>\n",
       "      <td>Microsoft Exchange Zero Day’s – Mitigations an...</td>\n",
       "      <td>Auth 0r</td>\n",
       "    </tr>\n",
       "    <tr>\n",
       "      <th>2</th>\n",
       "      <td>online</td>\n",
       "      <td>https://blueteamblog.com/darkside-ransomware-o...</td>\n",
       "      <td>2021-05-14</td>\n",
       "      <td>Blue Team Blog</td>\n",
       "      <td>DarkSide Ransomware Operations – Preventions a...</td>\n",
       "      <td>Auth 0r</td>\n",
       "    </tr>\n",
       "  </tbody>\n",
       "</table>\n",
       "</div>"
      ],
      "text/plain": [
       "  media_type                                                url        date  \\\n",
       "0     online               https://github.com/649/APT38-DYEPACK  2019-03-20   \n",
       "1     online  https://blueteamblog.com/microsoft-exchange-ze...  2021-03-06   \n",
       "2     online  https://blueteamblog.com/darkside-ransomware-o...  2021-05-14   \n",
       "\n",
       "     organization                                              title   author  \n",
       "0    Github (649)                            APT38 DYEPACK FRAMEWORK     @037  \n",
       "1  Blue Team Blog  Microsoft Exchange Zero Day’s – Mitigations an...  Auth 0r  \n",
       "2  Blue Team Blog  DarkSide Ransomware Operations – Preventions a...  Auth 0r  "
      ]
     },
     "execution_count": 26,
     "metadata": {},
     "output_type": "execute_result"
    }
   ],
   "source": [
    "df = pd.DataFrame(report_json_list)\n",
    "df.to_csv('./malpedia.csv', index=False)\n",
    "df.head(3)"
   ]
  },
  {
   "cell_type": "code",
   "execution_count": 27,
   "metadata": {},
   "outputs": [
    {
     "data": {
      "text/plain": [
       "13894"
      ]
     },
     "execution_count": 27,
     "metadata": {},
     "output_type": "execute_result"
    }
   ],
   "source": [
    "len(df)"
   ]
  },
  {
   "cell_type": "code",
   "execution_count": null,
   "metadata": {},
   "outputs": [],
   "source": []
  }
 ],
 "metadata": {
  "kernelspec": {
   "display_name": "base",
   "language": "python",
   "name": "python3"
  },
  "language_info": {
   "codemirror_mode": {
    "name": "ipython",
    "version": 3
   },
   "file_extension": ".py",
   "mimetype": "text/x-python",
   "name": "python",
   "nbconvert_exporter": "python",
   "pygments_lexer": "ipython3",
   "version": "3.9.5"
  },
  "orig_nbformat": 4
 },
 "nbformat": 4,
 "nbformat_minor": 2
}

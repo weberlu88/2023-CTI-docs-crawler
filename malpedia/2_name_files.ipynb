{
 "cells": [
  {
   "cell_type": "code",
   "execution_count": 1,
   "metadata": {},
   "outputs": [
    {
     "data": {
      "text/html": [
       "<div>\n",
       "<style scoped>\n",
       "    .dataframe tbody tr th:only-of-type {\n",
       "        vertical-align: middle;\n",
       "    }\n",
       "\n",
       "    .dataframe tbody tr th {\n",
       "        vertical-align: top;\n",
       "    }\n",
       "\n",
       "    .dataframe thead th {\n",
       "        text-align: right;\n",
       "    }\n",
       "</style>\n",
       "<table border=\"1\" class=\"dataframe\">\n",
       "  <thead>\n",
       "    <tr style=\"text-align: right;\">\n",
       "      <th></th>\n",
       "      <th>media_type</th>\n",
       "      <th>url</th>\n",
       "      <th>date</th>\n",
       "      <th>organization</th>\n",
       "      <th>title</th>\n",
       "      <th>author</th>\n",
       "    </tr>\n",
       "  </thead>\n",
       "  <tbody>\n",
       "    <tr>\n",
       "      <th>0</th>\n",
       "      <td>online</td>\n",
       "      <td>https://github.com/649/APT38-DYEPACK</td>\n",
       "      <td>2019-03-20</td>\n",
       "      <td>Github (649)</td>\n",
       "      <td>APT38 DYEPACK FRAMEWORK</td>\n",
       "      <td>@037</td>\n",
       "    </tr>\n",
       "    <tr>\n",
       "      <th>1</th>\n",
       "      <td>online</td>\n",
       "      <td>https://blueteamblog.com/microsoft-exchange-ze...</td>\n",
       "      <td>2021-03-06</td>\n",
       "      <td>Blue Team Blog</td>\n",
       "      <td>Microsoft Exchange Zero Day’s – Mitigations an...</td>\n",
       "      <td>Auth 0r</td>\n",
       "    </tr>\n",
       "    <tr>\n",
       "      <th>2</th>\n",
       "      <td>online</td>\n",
       "      <td>https://blueteamblog.com/darkside-ransomware-o...</td>\n",
       "      <td>2021-05-14</td>\n",
       "      <td>Blue Team Blog</td>\n",
       "      <td>DarkSide Ransomware Operations – Preventions a...</td>\n",
       "      <td>Auth 0r</td>\n",
       "    </tr>\n",
       "  </tbody>\n",
       "</table>\n",
       "</div>"
      ],
      "text/plain": [
       "  media_type                                                url        date  \\\n",
       "0     online               https://github.com/649/APT38-DYEPACK  2019-03-20   \n",
       "1     online  https://blueteamblog.com/microsoft-exchange-ze...  2021-03-06   \n",
       "2     online  https://blueteamblog.com/darkside-ransomware-o...  2021-05-14   \n",
       "\n",
       "     organization                                              title   author  \n",
       "0    Github (649)                            APT38 DYEPACK FRAMEWORK     @037  \n",
       "1  Blue Team Blog  Microsoft Exchange Zero Day’s – Mitigations an...  Auth 0r  \n",
       "2  Blue Team Blog  DarkSide Ransomware Operations – Preventions a...  Auth 0r  "
      ]
     },
     "execution_count": 1,
     "metadata": {},
     "output_type": "execute_result"
    }
   ],
   "source": [
    "import pandas as pd\n",
    "\n",
    "df = pd.read_csv('./malpedia.csv')\n",
    "# df = pd.DataFrame(report_json_list)\n",
    "# df.to_csv('./malpedia.csv', index=False)\n",
    "df.head(3)"
   ]
  },
  {
   "attachments": {},
   "cell_type": "markdown",
   "metadata": {},
   "source": [
    "介於 4 ~ 237，平均 54。那檔名總長度取60，多的喀調。。"
   ]
  },
  {
   "cell_type": "code",
   "execution_count": 11,
   "metadata": {},
   "outputs": [
    {
     "name": "stdout",
     "output_type": "stream",
     "text": [
      "237 4 54.90650640564272\n"
     ]
    }
   ],
   "source": [
    "df['len'] = df.apply(lambda row: len(row.title), axis = 1)\n",
    "max = df['len'].max()\n",
    "min = df['len'].min()\n",
    "mean = df['len'].mean()\n",
    "print(max, min, mean)"
   ]
  },
  {
   "attachments": {},
   "cell_type": "markdown",
   "metadata": {},
   "source": [
    "處理重複的檔名\n",
    "- The Eye of the Tiger \n",
    "- The Eye of the Tiger-no2\n",
    "- The Eye of the Tiger-no3"
   ]
  },
  {
   "cell_type": "code",
   "execution_count": 40,
   "metadata": {},
   "outputs": [
    {
     "data": {
      "text/plain": [
       "'Thwarting-Loaders-From-SocGholish-to-BLISTERs-LockBit-Payl'"
      ]
     },
     "execution_count": 40,
     "metadata": {},
     "output_type": "execute_result"
    }
   ],
   "source": [
    "import unicodedata\n",
    "import re\n",
    "\n",
    "def slugify(value, allow_unicode=False):\n",
    "    \"\"\"\n",
    "    https://stackoverflow.com/questions/295135/turn-a-string-into-a-valid-filename\n",
    "    Taken from https://github.com/django/django/blob/master/django/utils/text.py\n",
    "    Convert to ASCII if 'allow_unicode' is False. Convert spaces or repeated\n",
    "    dashes to single dashes. Remove characters that aren't alphanumerics,\n",
    "    underscores, or hyphens. Convert to lowercase. Also strip leading and\n",
    "    trailing whitespace, dashes, and underscores.\n",
    "    \"\"\"\n",
    "    value = str(value)\n",
    "    if allow_unicode:\n",
    "        value = unicodedata.normalize('NFKC', value)\n",
    "    else:\n",
    "        value = unicodedata.normalize('NFKD', value).encode('ascii', 'ignore').decode('ascii')\n",
    "    value = re.sub(r'[^\\w\\s-]', '', value) # , value.lower()\n",
    "    return re.sub(r'[-\\s]+', '-', value).strip('-_')\n",
    "\n",
    "slugify(\"Thwarting Loaders: From SocGholish to BLISTER’s LockBit Payl\")"
   ]
  },
  {
   "cell_type": "code",
   "execution_count": 60,
   "metadata": {},
   "outputs": [],
   "source": [
    "df = pd.read_csv('./malpedia.csv')\n",
    "df['filename'] = df.apply(lambda row: slugify(row.title)[:60], axis = 1)    # max len 60\n",
    "df['filename'] = df.apply(lambda row: 'no-title' if row.filename == '' else row.filename, axis = 1)"
   ]
  },
  {
   "cell_type": "code",
   "execution_count": 61,
   "metadata": {},
   "outputs": [
    {
     "data": {
      "text/plain": [
       "[('no-title', 7),\n",
       " ('The-Eye-of-the-Tiger', 4),\n",
       " ('Tweet-on-Malware-Sample', 4),\n",
       " ('Operation-Cleaver', 4),\n",
       " ('Hidden-Lynx-Professional-Hackers-for-Hire', 4),\n",
       " ('Lazarus-under-the-Hood', 4),\n",
       " ('Analysis-Run', 4),\n",
       " ('The-Gamaredon-Group-Toolset-Evolution', 4),\n",
       " ('Purple-Fox-Uses-New-Arrival-Vector-and-Improves-Malware-Arse', 4),\n",
       " ('Buckeye-cyberespionage-group-shifts-gaze-from-US-to-Hong-Kon', 4),\n",
       " ('APT', 3),\n",
       " ('Axiom', 3),\n",
       " ('APT38', 3),\n",
       " ('Prince-of-Persia-Infy-Malware-Active-In-Decade-of-Targeted-A', 3),\n",
       " ('Pacifier-APT', 3),\n",
       " ('Spoofing-in-the-reeds-with-Rietspoof', 3),\n",
       " ('Masters-of-Mimicry-new-APT-group-ChamelGang-and-its-arsenal', 3),\n",
       " ('PseudoManuscrypt-a-mass-scale-spyware-attack-campaign', 3),\n",
       " ('China-Hacked-South-Korea-Over-Missile-Defense-US-Firm-Says', 3),\n",
       " ('Thwarting-Loaders-From-SocGholish-to-BLISTERs-LockBit-Payloa', 3)]"
      ]
     },
     "execution_count": 61,
     "metadata": {},
     "output_type": "execute_result"
    }
   ],
   "source": [
    "# view duplicates\n",
    "from collections import Counter\n",
    "counter = Counter(df['filename'])\n",
    "counter.most_common(20)"
   ]
  },
  {
   "cell_type": "code",
   "execution_count": 62,
   "metadata": {},
   "outputs": [
    {
     "data": {
      "text/plain": [
       "[('APT38-DYEPACK-FRAMEWORK', 1),\n",
       " ('Microsoft-Exchange-Zero-Days-Mitigations-and-Detections', 1),\n",
       " ('DarkSide-Ransomware-Operations-Preventions-and-Detections', 1)]"
      ]
     },
     "execution_count": 62,
     "metadata": {},
     "output_type": "execute_result"
    }
   ],
   "source": [
    "# address duplicates\n",
    "current_cnt = dict.fromkeys(counter.keys(), 0)\n",
    "for i, row in df.iterrows():\n",
    "    name = row['filename']\n",
    "    current_cnt[name] += 1\n",
    "    if current_cnt[name] >= 2:\n",
    "        name = f\"{name}-no{current_cnt[name]}\"\n",
    "    df.at[i,'filename'] = name\n",
    "\n",
    "from collections import Counter\n",
    "counter = Counter(df['filename'])\n",
    "counter.most_common(3)"
   ]
  },
  {
   "cell_type": "code",
   "execution_count": 63,
   "metadata": {},
   "outputs": [],
   "source": [
    "# add column 表示尚未下載\n",
    "df['download'] = 0\n",
    "\n",
    "# save new csv file\n",
    "df.to_csv('./malpedia.csv', index=False)"
   ]
  },
  {
   "cell_type": "code",
   "execution_count": 64,
   "metadata": {},
   "outputs": [
    {
     "data": {
      "text/plain": [
       "13894"
      ]
     },
     "execution_count": 64,
     "metadata": {},
     "output_type": "execute_result"
    }
   ],
   "source": [
    "len(df['filename'])"
   ]
  },
  {
   "cell_type": "code",
   "execution_count": 65,
   "metadata": {},
   "outputs": [
    {
     "data": {
      "text/plain": [
       "13894"
      ]
     },
     "execution_count": 65,
     "metadata": {},
     "output_type": "execute_result"
    }
   ],
   "source": [
    "len(set(df['filename']))"
   ]
  },
  {
   "cell_type": "code",
   "execution_count": null,
   "metadata": {},
   "outputs": [],
   "source": []
  }
 ],
 "metadata": {
  "kernelspec": {
   "display_name": "base",
   "language": "python",
   "name": "python3"
  },
  "language_info": {
   "codemirror_mode": {
    "name": "ipython",
    "version": 3
   },
   "file_extension": ".py",
   "mimetype": "text/x-python",
   "name": "python",
   "nbconvert_exporter": "python",
   "pygments_lexer": "ipython3",
   "version": "3.9.7"
  },
  "orig_nbformat": 4
 },
 "nbformat": 4,
 "nbformat_minor": 2
}
